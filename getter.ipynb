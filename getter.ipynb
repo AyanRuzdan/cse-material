{
 "cells": [
  {
   "cell_type": "code",
   "execution_count": 2,
   "metadata": {},
   "outputs": [],
   "source": [
    "import pandas as pd"
   ]
  },
  {
   "cell_type": "code",
   "execution_count": 5,
   "metadata": {},
   "outputs": [],
   "source": [
    "df = pd.read_csv('output_files.csv')\n",
    "df=df[df['File Size (Bytes)'] == 0].reset_index(drop=True)\n",
    "df.to_csv('work.csv')"
   ]
  },
  {
   "cell_type": "code",
   "execution_count": 3,
   "metadata": {},
   "outputs": [],
   "source": [
    "workdf = pd.read_csv('work.csv')"
   ]
  },
  {
   "cell_type": "code",
   "execution_count": 6,
   "metadata": {},
   "outputs": [],
   "source": [
    "splitdf = workdf['File Path'].str.split('\\\\')"
   ]
  },
  {
   "cell_type": "code",
   "execution_count": 10,
   "metadata": {},
   "outputs": [
    {
     "name": "stdout",
     "output_type": "stream",
     "text": [
      "['DSA', 'Maps.md']\n",
      "['DSA', 'Sets.md']\n",
      "['DSA', 'Arrays', 'Strings', 'Strings.md']\n",
      "['DSA', 'Linked Lists', 'Circular LL.md']\n",
      "['DSA', 'Linked Lists', 'Deletion at a given position of Circular LL.md']\n",
      "['DSA', 'Linked Lists', 'Deletion at beginning of Circular LL.md']\n",
      "['DSA', 'Linked Lists', 'Deletion in Circular LL.md']\n",
      "['DSA', 'Linked Lists', 'Deletion in Doubly LL.md']\n",
      "['DSA', 'Linked Lists', 'Deletion in Singly LL.md']\n",
      "['DSA', 'Linked Lists', 'Doubly LL.md']\n",
      "['DSA', 'Linked Lists', 'Grounded LL.md']\n",
      "['DSA', 'Linked Lists', 'Insertion at a end of DLL.md']\n",
      "['DSA', 'Linked Lists', 'Insertion at a given position in DLL.md']\n",
      "['DSA', 'Linked Lists', 'Insertion at beginning of Circular LL.md']\n",
      "['DSA', 'Linked Lists', 'Insertion in Circular LL.md']\n",
      "['DSA', 'Linked Lists', 'Insertion in DLL.md']\n",
      "['DSA', 'Linked Lists', 'Insertion in Singly LL.md']\n",
      "['DSA', 'Linked Lists', 'Introduction to Linked List.md']\n",
      "['DSA', 'Linked Lists', 'Traversal of Circular LL.md']\n",
      "['DSA', 'Linked Lists', 'Traversal of DLL.md']\n",
      "['DSA', 'Linked Lists', 'Traversal of Singly LL.md']\n"
     ]
    }
   ],
   "source": [
    "for item in splitdf:\n",
    "    print(item[7:])"
   ]
  },
  {
   "cell_type": "code",
   "execution_count": null,
   "metadata": {},
   "outputs": [],
   "source": []
  }
 ],
 "metadata": {
  "kernelspec": {
   "display_name": "Python 3",
   "language": "python",
   "name": "python3"
  },
  "language_info": {
   "codemirror_mode": {
    "name": "ipython",
    "version": 3
   },
   "file_extension": ".py",
   "mimetype": "text/x-python",
   "name": "python",
   "nbconvert_exporter": "python",
   "pygments_lexer": "ipython3",
   "version": "3.13.0"
  }
 },
 "nbformat": 4,
 "nbformat_minor": 2
}
