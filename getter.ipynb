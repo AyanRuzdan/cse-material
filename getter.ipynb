{
 "cells": [
  {
   "cell_type": "code",
   "execution_count": 3,
   "metadata": {},
   "outputs": [],
   "source": [
    "import pandas as pd"
   ]
  },
  {
   "cell_type": "code",
   "execution_count": 7,
   "metadata": {},
   "outputs": [
    {
     "name": "stdout",
     "output_type": "stream",
     "text": [
      "                                            File Path  File Size (Bytes)\n",
      "2   C:\\Users\\user\\OneDrive - Datagrokr Analytics P...                  0\n",
      "6   C:\\Users\\user\\OneDrive - Datagrokr Analytics P...                  0\n",
      "22  C:\\Users\\user\\OneDrive - Datagrokr Analytics P...                  0\n",
      "31  C:\\Users\\user\\OneDrive - Datagrokr Analytics P...                  0\n",
      "32  C:\\Users\\user\\OneDrive - Datagrokr Analytics P...                  0\n",
      "33  C:\\Users\\user\\OneDrive - Datagrokr Analytics P...                  0\n",
      "34  C:\\Users\\user\\OneDrive - Datagrokr Analytics P...                  0\n",
      "35  C:\\Users\\user\\OneDrive - Datagrokr Analytics P...                  0\n",
      "36  C:\\Users\\user\\OneDrive - Datagrokr Analytics P...                  0\n",
      "37  C:\\Users\\user\\OneDrive - Datagrokr Analytics P...                  0\n",
      "38  C:\\Users\\user\\OneDrive - Datagrokr Analytics P...                  0\n",
      "39  C:\\Users\\user\\OneDrive - Datagrokr Analytics P...                  0\n",
      "41  C:\\Users\\user\\OneDrive - Datagrokr Analytics P...                  0\n",
      "42  C:\\Users\\user\\OneDrive - Datagrokr Analytics P...                  0\n",
      "44  C:\\Users\\user\\OneDrive - Datagrokr Analytics P...                  0\n",
      "45  C:\\Users\\user\\OneDrive - Datagrokr Analytics P...                  0\n",
      "46  C:\\Users\\user\\OneDrive - Datagrokr Analytics P...                  0\n",
      "47  C:\\Users\\user\\OneDrive - Datagrokr Analytics P...                  0\n",
      "49  C:\\Users\\user\\OneDrive - Datagrokr Analytics P...                  0\n",
      "50  C:\\Users\\user\\OneDrive - Datagrokr Analytics P...                  0\n",
      "52  C:\\Users\\user\\OneDrive - Datagrokr Analytics P...                  0\n"
     ]
    }
   ],
   "source": [
    "df = pd.read_csv('output_files.csv')\n",
    "print(df[df['File Size (Bytes)'] == 0])"
   ]
  },
  {
   "cell_type": "code",
   "execution_count": null,
   "metadata": {},
   "outputs": [],
   "source": []
  }
 ],
 "metadata": {
  "kernelspec": {
   "display_name": "Python 3",
   "language": "python",
   "name": "python3"
  },
  "language_info": {
   "codemirror_mode": {
    "name": "ipython",
    "version": 3
   },
   "file_extension": ".py",
   "mimetype": "text/x-python",
   "name": "python",
   "nbconvert_exporter": "python",
   "pygments_lexer": "ipython3",
   "version": "3.12.4"
  }
 },
 "nbformat": 4,
 "nbformat_minor": 2
}
